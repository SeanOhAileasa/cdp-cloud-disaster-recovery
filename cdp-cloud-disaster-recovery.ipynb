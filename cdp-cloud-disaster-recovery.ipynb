{
 "cells": [
  {
   "cell_type": "markdown",
   "id": "d4ee9e4b",
   "metadata": {},
   "source": [
    "***\n",
    "< [Home](https://github.com/SeanOhAileasa) | [README](https://github.com/SeanOhAileasa/cdp-cloud-disaster-recovery/blob/main/README.md) >\n",
    "\n",
    "## CompTIA Cloud+ - Course Material 2022\n",
    "###### Topic: ``Cloud Disaster Recovery``\n",
    "***"
   ]
  },
  {
   "cell_type": "markdown",
   "id": "e7228f57",
   "metadata": {},
   "source": [
    "<a id=\"top\"></a>\n",
    "***\n",
    "## Table of Contents\n",
    "***"
   ]
  },
  {
   "cell_type": "markdown",
   "id": "c2bb5e7b",
   "metadata": {},
   "source": [
    "### [Cloud Disaster Recovery](#aa) <br/><br/>\n",
    "<hr width=50%;>"
   ]
  },
  {
   "cell_type": "markdown",
   "id": "e76a109c",
   "metadata": {},
   "source": [
    "### [Disaster Recovery Failovers](#A) <br/><br/>\n",
    "<hr width=50%;>"
   ]
  },
  {
   "cell_type": "markdown",
   "id": "24ab9159",
   "metadata": {},
   "source": [
    "### [Disaster Recovery Failbacks](#B) <br/><br/>\n",
    "<hr width=50%;>"
   ]
  },
  {
   "cell_type": "markdown",
   "id": "827b2f99",
   "metadata": {},
   "source": [
    "### [Cloud Backup Restoration](#C) <br/><br/>\n",
    "<hr width=50%;>"
   ]
  },
  {
   "cell_type": "markdown",
   "id": "3afb4803",
   "metadata": {},
   "source": [
    "### [Cloud Replication Disaster Recovery](#D) <br/><br/>\n",
    "<hr width=50%;>"
   ]
  },
  {
   "cell_type": "markdown",
   "id": "cdac0e89",
   "metadata": {},
   "source": [
    "### [Cloud Network Configurations Restoration](#E) <br/><br/>\n",
    "<hr width=50%;>"
   ]
  },
  {
   "cell_type": "markdown",
   "id": "a9fe7936",
   "metadata": {},
   "source": [
    "### [Cloud Sites and On-premise Disaster Recovery](#F) <br/><br/>\n",
    "<hr width=50%;>"
   ]
  },
  {
   "cell_type": "markdown",
   "id": "82ab9330",
   "metadata": {},
   "source": [
    "### [Cloud Disaster Recovery Backup Requirements](#G) <br/><br/>\n",
    "<hr width=50%;>"
   ]
  },
  {
   "cell_type": "markdown",
   "id": "930a6f8f",
   "metadata": {},
   "source": [
    "### [Cloud Disaster Recovery Documentation](#H) <br/><br/>\n",
    "<hr width=50%;>"
   ]
  },
  {
   "cell_type": "markdown",
   "id": "22d43791",
   "metadata": {},
   "source": [
    "### [Cloud Geographical Data Centers](#I) <br/><br/>\n",
    "<hr width=50%;>"
   ]
  },
  {
   "cell_type": "markdown",
   "id": "8cdc6329",
   "metadata": {},
   "source": [
    "### [Cloud Backup and Restore Operations](#J) <br/><br/>\n",
    "<hr width=50%;>"
   ]
  },
  {
   "cell_type": "markdown",
   "id": "db989a18",
   "metadata": {},
   "source": [
    "### [Course Summary](#K) <br/><br/>\n",
    "<hr width=50%;>"
   ]
  },
  {
   "cell_type": "markdown",
   "id": "bf2b95e2",
   "metadata": {},
   "source": [
    "***\n",
    "## END"
   ]
  },
  {
   "cell_type": "markdown",
   "id": "34aa6eb5",
   "metadata": {},
   "source": [
    "< [Table of Contents](#top) | [References](#references) >\n",
    "<a id=\"aa\"></a>\n",
    "***\n",
    "### Cloud Disaster Recovery\n",
    "***"
   ]
  },
  {
   "cell_type": "markdown",
   "id": "7a0d1c36",
   "metadata": {},
   "source": []
  },
  {
   "cell_type": "markdown",
   "id": "764136f6",
   "metadata": {},
   "source": [
    "< [Table of Contents](#top) | [References](#references) >\n",
    "<a id=\"A\"></a>\n",
    "***\n",
    "### Disaster Recovery Failovers\n",
    "*** "
   ]
  },
  {
   "cell_type": "markdown",
   "id": "c61b7e18",
   "metadata": {},
   "source": []
  },
  {
   "cell_type": "markdown",
   "id": "f8a85cb0",
   "metadata": {},
   "source": [
    "< [Table of Contents](#top) | [References](#references) >\n",
    "<a id=\"B\"></a>\n",
    "***\n",
    "### Disaster Recovery Failbacks\n",
    "*** "
   ]
  },
  {
   "cell_type": "markdown",
   "id": "45b98200",
   "metadata": {},
   "source": []
  },
  {
   "cell_type": "markdown",
   "id": "68ec21b3",
   "metadata": {},
   "source": [
    "< [Table of Contents](#top) | [References](#references) >\n",
    "<a id=\"C\"></a>\n",
    "***\n",
    "### Cloud Backup Restoration\n",
    "*** "
   ]
  },
  {
   "cell_type": "markdown",
   "id": "1c5930fc",
   "metadata": {},
   "source": []
  },
  {
   "cell_type": "markdown",
   "id": "8d225aa5",
   "metadata": {},
   "source": [
    "< [Table of Contents](#top) | [References](#references) >\n",
    "<a id=\"D\"></a>\n",
    "***\n",
    "### Cloud Replication Disaster Recovery\n",
    "*** "
   ]
  },
  {
   "cell_type": "markdown",
   "id": "340f2619",
   "metadata": {},
   "source": []
  },
  {
   "cell_type": "markdown",
   "id": "833de48a",
   "metadata": {},
   "source": [
    "< [Table of Contents](#top) | [References](#references) >\n",
    "<a id=\"E\"></a>\n",
    "***\n",
    "### Cloud Network Configurations Restoration\n",
    "*** "
   ]
  },
  {
   "cell_type": "markdown",
   "id": "acf2b957",
   "metadata": {},
   "source": []
  },
  {
   "cell_type": "markdown",
   "id": "5f434a44",
   "metadata": {},
   "source": [
    "< [Table of Contents](#top) | [References](#references) >\n",
    "<a id=\"F\"></a>\n",
    "***\n",
    "### Cloud Sites and On-premise Disaster Recovery\n",
    "*** "
   ]
  },
  {
   "cell_type": "markdown",
   "id": "09b77a81",
   "metadata": {},
   "source": []
  },
  {
   "cell_type": "markdown",
   "id": "1c02dc79",
   "metadata": {},
   "source": [
    "< [Table of Contents](#top) | [References](#references) >\n",
    "<a id=\"G\"></a>\n",
    "***\n",
    "### Cloud Disaster Recovery Backup Requirements\n",
    "*** "
   ]
  },
  {
   "cell_type": "markdown",
   "id": "3e6627f4",
   "metadata": {},
   "source": []
  },
  {
   "cell_type": "markdown",
   "id": "9017e1aa",
   "metadata": {},
   "source": [
    "< [Table of Contents](#top) | [References](#references) >\n",
    "<a id=\"H\"></a>\n",
    "***\n",
    "### Cloud Disaster Recovery Documentation\n",
    "*** "
   ]
  },
  {
   "cell_type": "markdown",
   "id": "ea85a561",
   "metadata": {},
   "source": []
  },
  {
   "cell_type": "markdown",
   "id": "6b980728",
   "metadata": {},
   "source": [
    "< [Table of Contents](#top) | [References](#references) >\n",
    "<a id=\"I\"></a>\n",
    "***\n",
    "### Cloud Geographical Data Centers\n",
    "*** "
   ]
  },
  {
   "cell_type": "markdown",
   "id": "ba99a37c",
   "metadata": {},
   "source": []
  },
  {
   "cell_type": "markdown",
   "id": "74439eee",
   "metadata": {},
   "source": [
    "< [Table of Contents](#top) | [References](#references) >\n",
    "<a id=\"J\"></a>\n",
    "***\n",
    "### Cloud Backup and Restore Operations\n",
    "*** "
   ]
  },
  {
   "cell_type": "markdown",
   "id": "1699e8da",
   "metadata": {},
   "source": []
  },
  {
   "cell_type": "markdown",
   "id": "173e78b5",
   "metadata": {},
   "source": [
    "< [Table of Contents](#top) | [References](#references) >\n",
    "<a id=\"K\"></a>\n",
    "***\n",
    "### Course Summary\n",
    "*** "
   ]
  },
  {
   "cell_type": "markdown",
   "id": "cf6b4461",
   "metadata": {},
   "source": []
  },
  {
   "cell_type": "markdown",
   "id": "2cc20932",
   "metadata": {},
   "source": [
    "***\n",
    "## END"
   ]
  },
  {
   "cell_type": "markdown",
   "id": "e0e42d51",
   "metadata": {},
   "source": [
    "< [Table of Contents](#top) >\n",
    "<a id=\"references\"></a>\n",
    "***\n",
    "## References\n",
    "***"
   ]
  },
  {
   "cell_type": "markdown",
   "id": "757bf6de",
   "metadata": {},
   "source": [
    "&nbsp;&nbsp;&nbsp;&nbsp;&nbsp;&nbsp;&nbsp;&nbsp;&nbsp;skillsoft, \"Cloud Disaster Recovery,\" [skillsoft.com](https://web.archive.org/web/20220403100053/https://www.skillsoft.com/), n.d.."
   ]
  },
  {
   "cell_type": "markdown",
   "id": "b33c372a",
   "metadata": {},
   "source": [
    "***\n",
    "## END"
   ]
  },
  {
   "cell_type": "markdown",
   "id": "e5961b4d",
   "metadata": {},
   "source": [
    "< [Table of Contents](#top) | [References](#references) >\n",
    "<a id=\"appendix\"></a>\n",
    "***\n",
    "## Appendix\n",
    "***"
   ]
  },
  {
   "cell_type": "markdown",
   "id": "00d82a82",
   "metadata": {},
   "source": [
    "***\n",
    "## END"
   ]
  },
  {
   "cell_type": "code",
   "execution_count": 1,
   "id": "706756a2",
   "metadata": {},
   "outputs": [
    {
     "name": "stderr",
     "output_type": "stream",
     "text": [
      "C:\\Users\\SeanOhAileasa\\AppData\\Local\\Temp\\ipykernel_14208\\1322614208.py:1: DeprecationWarning: Importing display from IPython.core.display is deprecated since IPython 7.14, please import from IPython display\n",
      "  from IPython.core.display import display,HTML\n"
     ]
    },
    {
     "data": {
      "text/html": [
       "<style>.container { width:100% !important; }</style>"
      ],
      "text/plain": [
       "<IPython.core.display.HTML object>"
      ]
     },
     "metadata": {},
     "output_type": "display_data"
    }
   ],
   "source": [
    "from IPython.core.display import display,HTML\n",
    "display(HTML(\"<style>.container { width:100% !important; }</style>\"))"
   ]
  },
  {
   "cell_type": "markdown",
   "id": "899c1783",
   "metadata": {},
   "source": [
    "# END JUPYTER NOTEBOOK"
   ]
  }
 ],
 "metadata": {
  "kernelspec": {
   "display_name": "Python 3 (ipykernel)",
   "language": "python",
   "name": "python3"
  },
  "language_info": {
   "codemirror_mode": {
    "name": "ipython",
    "version": 3
   },
   "file_extension": ".py",
   "mimetype": "text/x-python",
   "name": "python",
   "nbconvert_exporter": "python",
   "pygments_lexer": "ipython3",
   "version": "3.9.12"
  }
 },
 "nbformat": 4,
 "nbformat_minor": 5
}
